{
 "cells": [
  {
   "cell_type": "markdown",
   "metadata": {},
   "source": [
    "# PureGym timetable\n",
    "\n",
    "I find the timetable hard to read:\n",
    "- the times are not aligned\n",
    "- you have to click to see if there's some place available\n",
    "\n",
    "I'll try to make it more convenient.\n",
    "\n",
    "https://www.puregym.com/gyms/london-great-portland-street/timetable"
   ]
  },
  {
   "cell_type": "markdown",
   "metadata": {},
   "source": [
    "## Get the time table data"
   ]
  },
  {
   "cell_type": "code",
   "execution_count": 1,
   "metadata": {
    "collapsed": false
   },
   "outputs": [],
   "source": [
    "from urllib import request, parse\n",
    "from bs4 import BeautifulSoup\n",
    "\n",
    "import json\n",
    "import re\n",
    "\n",
    "# parse javascript that contains the data (as a function parameter)\n",
    "from slimit import ast\n",
    "from slimit.parser import Parser\n",
    "from slimit.visitors import nodevisitor"
   ]
  },
  {
   "cell_type": "code",
   "execution_count": 2,
   "metadata": {
    "collapsed": true
   },
   "outputs": [],
   "source": [
    "my_gym_name = 'London Great Portland Street'\n",
    "\n",
    "all_gyms_url = 'https://www.puregym.com/gyms/'\n",
    "timetable_url = 'https://www.puregym.com/api/gymclass/getclasses'\n",
    "timetable_gym_id_param = 'gymId'"
   ]
  },
  {
   "cell_type": "markdown",
   "metadata": {},
   "source": [
    "### Get the id of my gym"
   ]
  },
  {
   "cell_type": "code",
   "execution_count": 3,
   "metadata": {
    "collapsed": false
   },
   "outputs": [
    {
     "data": {
      "text/plain": [
       "'\\n<!DOCTYPE html>\\n<html lang=\"en\">\\n<head>\\n    \\n\\n<title>Gyms | PureGym</title>\\n<link type=\"text/css\" h'"
      ]
     },
     "execution_count": 3,
     "metadata": {},
     "output_type": "execute_result"
    }
   ],
   "source": [
    "r = request.urlopen(all_gyms_url)\n",
    "html = r.read().decode('utf-8')\n",
    "html[:100]"
   ]
  },
  {
   "cell_type": "code",
   "execution_count": 4,
   "metadata": {
    "collapsed": false
   },
   "outputs": [
    {
     "data": {
      "text/plain": [
       "'ReactDOM.render(React.createElement(Component.GymSearchListRoot, {\"allGyms\":[{\"id\":69,\"url\":\"/gyms/a'"
      ]
     },
     "execution_count": 4,
     "metadata": {},
     "output_type": "execute_result"
    }
   ],
   "source": [
    "soup = BeautifulSoup(html, 'html.parser')\n",
    "script = soup.find_all('script', text=re.compile('.*\"allGyms\".*'))\n",
    "tag = script[0]\n",
    "script_text = tag.get_text()\n",
    "script_text[:100]"
   ]
  },
  {
   "cell_type": "code",
   "execution_count": 5,
   "metadata": {
    "collapsed": false
   },
   "outputs": [
    {
     "name": "stderr",
     "output_type": "stream",
     "text": [
      "WARNING: Couldn't write lextab module <module 'slimit.lextab' from '/home/laurie/miniconda3/lib/python3.4/site-packages/slimit/lextab.py'>. Won't overwrite existing lextab module\n",
      "WARNING: yacc table file version is out of date\n",
      "WARNING: Token 'CLASS' defined, but not used\n",
      "WARNING: Token 'BLOCK_COMMENT' defined, but not used\n",
      "WARNING: Token 'LINE_TERMINATOR' defined, but not used\n",
      "WARNING: Token 'LINE_COMMENT' defined, but not used\n",
      "WARNING: Token 'EXPORT' defined, but not used\n",
      "WARNING: Token 'CONST' defined, but not used\n",
      "WARNING: Token 'SUPER' defined, but not used\n",
      "WARNING: Token 'IMPORT' defined, but not used\n",
      "WARNING: Token 'ENUM' defined, but not used\n",
      "WARNING: Token 'EXTENDS' defined, but not used\n",
      "WARNING: There are 10 unused tokens\n",
      "WARNING: Couldn't create <module 'slimit.yacctab' from '/home/laurie/miniconda3/lib/python3.4/site-packages/slimit/yacctab.py'>. Won't overwrite existing tabmodule\n"
     ]
    },
    {
     "data": {
      "text/plain": [
       "'[{\\n  \"id\": 69,\\n  \"url\": \"/gyms/aberdeen-kittybrewster/\",\\n  \"urlName\": \"aberdeen-kittybrewster\",\\n  \"n'"
      ]
     },
     "execution_count": 5,
     "metadata": {},
     "output_type": "execute_result"
    }
   ],
   "source": [
    "parser = Parser()\n",
    "tree = parser.parse(script_text)\n",
    "\n",
    "json_node = None\n",
    "for node in nodevisitor.visit(tree):\n",
    "    if isinstance(node, ast.Assign) and getattr(node.left, 'value', '') == '\"allGyms\"':\n",
    "        json_node = node.right\n",
    "        break\n",
    "\n",
    "json_str = json_node.to_ecma()\n",
    "json_str[:100]"
   ]
  },
  {
   "cell_type": "code",
   "execution_count": 6,
   "metadata": {
    "collapsed": false
   },
   "outputs": [
    {
     "data": {
      "text/plain": [
       "{'id': 69,\n",
       " 'joiningfee': 15.0,\n",
       " 'latitude': 57.1614,\n",
       " 'longitude': -2.1123,\n",
       " 'monthlyfee': 19.99,\n",
       " 'name': 'Aberdeen Kittybrewster',\n",
       " 'postcode': 'AB24 3LJ',\n",
       " 'status': 2,\n",
       " 'streetAddress': 'Kittybrewster Retail Park, Bedford Road',\n",
       " 'url': '/gyms/aberdeen-kittybrewster/',\n",
       " 'urlName': 'aberdeen-kittybrewster'}"
      ]
     },
     "execution_count": 6,
     "metadata": {},
     "output_type": "execute_result"
    }
   ],
   "source": [
    "j = json.loads(json_str)\n",
    "j[0]"
   ]
  },
  {
   "cell_type": "code",
   "execution_count": 7,
   "metadata": {
    "collapsed": false
   },
   "outputs": [
    {
     "data": {
      "text/plain": [
       "106"
      ]
     },
     "execution_count": 7,
     "metadata": {},
     "output_type": "execute_result"
    }
   ],
   "source": [
    "my_gym_id = None\n",
    "for gym in j:\n",
    "    if gym['name'] == my_gym_name:\n",
    "        my_gym_id = gym['id']\n",
    "        break\n",
    "\n",
    "my_gym_id"
   ]
  },
  {
   "cell_type": "markdown",
   "metadata": {},
   "source": [
    "### Get the time table of my gym"
   ]
  },
  {
   "cell_type": "code",
   "execution_count": 8,
   "metadata": {
    "collapsed": false
   },
   "outputs": [
    {
     "data": {
      "text/plain": [
       "'{\\r\\n  \"filter\": {\\r\\n    \"availableClassTypes\": [\\r\\n      \"all\",\\r\\n      \"induction\",\\r\\n      \"class\"\\r\\n   '"
      ]
     },
     "execution_count": 8,
     "metadata": {},
     "output_type": "execute_result"
    }
   ],
   "source": [
    "data = parse.urlencode({timetable_gym_id_param: my_gym_id})\n",
    "url = timetable_url + '?' + data\n",
    "json_str = request.urlopen(url).read().decode('utf-8')\n",
    "json_str[:100]"
   ]
  },
  {
   "cell_type": "code",
   "execution_count": 9,
   "metadata": {
    "collapsed": false
   },
   "outputs": [
    {
     "data": {
      "text/plain": [
       "{'bookedCount': 20,\n",
       " 'bookingId': 0,\n",
       " 'canBeBooked': False,\n",
       " 'classCapacity': 20,\n",
       " 'classType': 'pure classes',\n",
       " 'description': 'Legs, bums and tums – does exactly what it says. A class aimed at those areas we love to hate, helping to tone and work your core and lower body. The class can be completed by beginners through to experts as our instructors will push you according to your ability. Great if your goal is Weight Loss, Toning or General Fitness',\n",
       " 'duration': 30,\n",
       " 'entityId': 5603,\n",
       " 'gymId': 106,\n",
       " 'hexColor': None,\n",
       " 'instructorName': 'Andrew Mukudzeu Tirivanhu',\n",
       " 'isInduction': False,\n",
       " 'name': 'Pure Legs, Bums & Tums',\n",
       " 'reason': 2,\n",
       " 'reasons': ['You must be logged in to Book a class'],\n",
       " 'startDateTime': '2016-10-24T05:45:00Z',\n",
       " 'studio': 'Studio',\n",
       " 'waitingListCapacity': 10,\n",
       " 'waitingListCount': 5}"
      ]
     },
     "execution_count": 9,
     "metadata": {},
     "output_type": "execute_result"
    }
   ],
   "source": [
    "timetable_json = json.loads(json_str)\n",
    "sessions = timetable_json['scheduledClasses']\n",
    "sessions[0]"
   ]
  },
  {
   "cell_type": "markdown",
   "metadata": {},
   "source": [
    "## Display the timetable (WIP)"
   ]
  },
  {
   "cell_type": "code",
   "execution_count": 10,
   "metadata": {
    "collapsed": true
   },
   "outputs": [],
   "source": [
    "import pandas as pd\n",
    "import numpy as np"
   ]
  },
  {
   "cell_type": "code",
   "execution_count": 11,
   "metadata": {
    "collapsed": false
   },
   "outputs": [
    {
     "data": {
      "text/html": [
       "<div>\n",
       "<table border=\"1\" class=\"dataframe\">\n",
       "  <thead>\n",
       "    <tr style=\"text-align: right;\">\n",
       "      <th></th>\n",
       "      <th>bookedCount</th>\n",
       "      <th>bookingId</th>\n",
       "      <th>canBeBooked</th>\n",
       "      <th>classCapacity</th>\n",
       "      <th>classType</th>\n",
       "      <th>description</th>\n",
       "      <th>duration</th>\n",
       "      <th>entityId</th>\n",
       "      <th>instructorName</th>\n",
       "      <th>isInduction</th>\n",
       "      <th>name</th>\n",
       "      <th>startDateTime</th>\n",
       "      <th>studio</th>\n",
       "      <th>waitingListCapacity</th>\n",
       "      <th>waitingListCount</th>\n",
       "    </tr>\n",
       "  </thead>\n",
       "  <tbody>\n",
       "    <tr>\n",
       "      <th>0</th>\n",
       "      <td>20</td>\n",
       "      <td>0</td>\n",
       "      <td>False</td>\n",
       "      <td>20</td>\n",
       "      <td>pure classes</td>\n",
       "      <td>Legs, bums and tums – does exactly what it say...</td>\n",
       "      <td>30</td>\n",
       "      <td>5603</td>\n",
       "      <td>Andrew Mukudzeu Tirivanhu</td>\n",
       "      <td>False</td>\n",
       "      <td>Pure Legs, Bums &amp; Tums</td>\n",
       "      <td>2016-10-24 05:45:00</td>\n",
       "      <td>Studio</td>\n",
       "      <td>10</td>\n",
       "      <td>5</td>\n",
       "    </tr>\n",
       "    <tr>\n",
       "      <th>1</th>\n",
       "      <td>22</td>\n",
       "      <td>0</td>\n",
       "      <td>False</td>\n",
       "      <td>22</td>\n",
       "      <td>pure classes</td>\n",
       "      <td>Our cycle class is an indoor experience where ...</td>\n",
       "      <td>30</td>\n",
       "      <td>5616</td>\n",
       "      <td>Andrew Mukudzeu Tirivanhu</td>\n",
       "      <td>False</td>\n",
       "      <td>Pure Cycle</td>\n",
       "      <td>2016-10-24 06:25:00</td>\n",
       "      <td>Cycle Studio</td>\n",
       "      <td>10</td>\n",
       "      <td>9</td>\n",
       "    </tr>\n",
       "    <tr>\n",
       "      <th>2</th>\n",
       "      <td>20</td>\n",
       "      <td>0</td>\n",
       "      <td>False</td>\n",
       "      <td>20</td>\n",
       "      <td>pure classes</td>\n",
       "      <td>Spending as much time as possible in your opti...</td>\n",
       "      <td>30</td>\n",
       "      <td>5622</td>\n",
       "      <td>Andrew Mukudzeu Tirivanhu</td>\n",
       "      <td>False</td>\n",
       "      <td>Pure Fat burn</td>\n",
       "      <td>2016-10-24 07:00:00</td>\n",
       "      <td>Studio</td>\n",
       "      <td>10</td>\n",
       "      <td>9</td>\n",
       "    </tr>\n",
       "    <tr>\n",
       "      <th>3</th>\n",
       "      <td>0</td>\n",
       "      <td>0</td>\n",
       "      <td>False</td>\n",
       "      <td>3</td>\n",
       "      <td>induction</td>\n",
       "      <td>The induction is interactive so if you would l...</td>\n",
       "      <td>30</td>\n",
       "      <td>5635</td>\n",
       "      <td>Andrew Mukudzeu Tirivanhu</td>\n",
       "      <td>True</td>\n",
       "      <td>Weight Loss Induction</td>\n",
       "      <td>2016-10-24 07:45:00</td>\n",
       "      <td>Induction Point</td>\n",
       "      <td>0</td>\n",
       "      <td>0</td>\n",
       "    </tr>\n",
       "    <tr>\n",
       "      <th>4</th>\n",
       "      <td>18</td>\n",
       "      <td>0</td>\n",
       "      <td>False</td>\n",
       "      <td>18</td>\n",
       "      <td>pure classes</td>\n",
       "      <td>Increase your metabolism and boost your fitnes...</td>\n",
       "      <td>40</td>\n",
       "      <td>5648</td>\n",
       "      <td>Polyzoi Despoina</td>\n",
       "      <td>False</td>\n",
       "      <td>Pure Circuits</td>\n",
       "      <td>2016-10-24 11:10:00</td>\n",
       "      <td>Studio</td>\n",
       "      <td>10</td>\n",
       "      <td>10</td>\n",
       "    </tr>\n",
       "  </tbody>\n",
       "</table>\n",
       "</div>"
      ],
      "text/plain": [
       "   bookedCount  bookingId canBeBooked  classCapacity     classType  \\\n",
       "0           20          0       False             20  pure classes   \n",
       "1           22          0       False             22  pure classes   \n",
       "2           20          0       False             20  pure classes   \n",
       "3            0          0       False              3     induction   \n",
       "4           18          0       False             18  pure classes   \n",
       "\n",
       "                                         description  duration  entityId  \\\n",
       "0  Legs, bums and tums – does exactly what it say...        30      5603   \n",
       "1  Our cycle class is an indoor experience where ...        30      5616   \n",
       "2  Spending as much time as possible in your opti...        30      5622   \n",
       "3  The induction is interactive so if you would l...        30      5635   \n",
       "4  Increase your metabolism and boost your fitnes...        40      5648   \n",
       "\n",
       "              instructorName isInduction                    name  \\\n",
       "0  Andrew Mukudzeu Tirivanhu       False  Pure Legs, Bums & Tums   \n",
       "1  Andrew Mukudzeu Tirivanhu       False             Pure Cycle    \n",
       "2  Andrew Mukudzeu Tirivanhu       False           Pure Fat burn   \n",
       "3  Andrew Mukudzeu Tirivanhu        True   Weight Loss Induction   \n",
       "4           Polyzoi Despoina       False           Pure Circuits   \n",
       "\n",
       "        startDateTime           studio  waitingListCapacity  waitingListCount  \n",
       "0 2016-10-24 05:45:00           Studio                   10                 5  \n",
       "1 2016-10-24 06:25:00     Cycle Studio                   10                 9  \n",
       "2 2016-10-24 07:00:00           Studio                   10                 9  \n",
       "3 2016-10-24 07:45:00  Induction Point                    0                 0  \n",
       "4 2016-10-24 11:10:00           Studio                   10                10  "
      ]
     },
     "execution_count": 11,
     "metadata": {},
     "output_type": "execute_result"
    }
   ],
   "source": [
    "df = pd.DataFrame(sessions)\n",
    "df.drop(['gymId', 'hexColor', 'reason', 'reasons'], axis=1, inplace=True)  # what is bookingId?\n",
    "df['startDateTime'] = df['startDateTime'].apply(pd.to_datetime)\n",
    "df.sort_values(by='startDateTime', axis=0, inplace=True)\n",
    "\n",
    "df.head()"
   ]
  },
  {
   "cell_type": "code",
   "execution_count": 12,
   "metadata": {
    "collapsed": false
   },
   "outputs": [
    {
     "data": {
      "text/plain": [
       "bookedCount                     int64\n",
       "bookingId                       int64\n",
       "canBeBooked                      bool\n",
       "classCapacity                   int64\n",
       "classType                      object\n",
       "description                    object\n",
       "duration                        int64\n",
       "entityId                        int64\n",
       "instructorName                 object\n",
       "isInduction                      bool\n",
       "name                           object\n",
       "startDateTime          datetime64[ns]\n",
       "studio                         object\n",
       "waitingListCapacity             int64\n",
       "waitingListCount                int64\n",
       "dtype: object"
      ]
     },
     "execution_count": 12,
     "metadata": {},
     "output_type": "execute_result"
    }
   ],
   "source": [
    "df.dtypes"
   ]
  },
  {
   "cell_type": "code",
   "execution_count": 13,
   "metadata": {
    "collapsed": false
   },
   "outputs": [
    {
     "data": {
      "text/html": [
       "<div>\n",
       "<table border=\"1\" class=\"dataframe\">\n",
       "  <thead>\n",
       "    <tr style=\"text-align: right;\">\n",
       "      <th></th>\n",
       "      <th>bookedCount</th>\n",
       "      <th>bookingId</th>\n",
       "      <th>classCapacity</th>\n",
       "      <th>duration</th>\n",
       "      <th>entityId</th>\n",
       "      <th>waitingListCapacity</th>\n",
       "      <th>waitingListCount</th>\n",
       "    </tr>\n",
       "  </thead>\n",
       "  <tbody>\n",
       "    <tr>\n",
       "      <th>count</th>\n",
       "      <td>163.000000</td>\n",
       "      <td>163.0</td>\n",
       "      <td>163.000000</td>\n",
       "      <td>163.000000</td>\n",
       "      <td>163.000000</td>\n",
       "      <td>163.000000</td>\n",
       "      <td>163.000000</td>\n",
       "    </tr>\n",
       "    <tr>\n",
       "      <th>mean</th>\n",
       "      <td>6.858896</td>\n",
       "      <td>0.0</td>\n",
       "      <td>15.601227</td>\n",
       "      <td>36.871166</td>\n",
       "      <td>6422.564417</td>\n",
       "      <td>7.423313</td>\n",
       "      <td>2.177914</td>\n",
       "    </tr>\n",
       "    <tr>\n",
       "      <th>std</th>\n",
       "      <td>9.275534</td>\n",
       "      <td>0.0</td>\n",
       "      <td>7.712856</td>\n",
       "      <td>7.639361</td>\n",
       "      <td>769.920479</td>\n",
       "      <td>4.386984</td>\n",
       "      <td>3.872856</td>\n",
       "    </tr>\n",
       "    <tr>\n",
       "      <th>min</th>\n",
       "      <td>0.000000</td>\n",
       "      <td>0.0</td>\n",
       "      <td>3.000000</td>\n",
       "      <td>15.000000</td>\n",
       "      <td>5603.000000</td>\n",
       "      <td>0.000000</td>\n",
       "      <td>0.000000</td>\n",
       "    </tr>\n",
       "    <tr>\n",
       "      <th>25%</th>\n",
       "      <td>0.000000</td>\n",
       "      <td>0.0</td>\n",
       "      <td>3.000000</td>\n",
       "      <td>30.000000</td>\n",
       "      <td>5861.000000</td>\n",
       "      <td>0.000000</td>\n",
       "      <td>0.000000</td>\n",
       "    </tr>\n",
       "    <tr>\n",
       "      <th>50%</th>\n",
       "      <td>0.000000</td>\n",
       "      <td>0.0</td>\n",
       "      <td>20.000000</td>\n",
       "      <td>40.000000</td>\n",
       "      <td>6248.000000</td>\n",
       "      <td>10.000000</td>\n",
       "      <td>0.000000</td>\n",
       "    </tr>\n",
       "    <tr>\n",
       "      <th>75%</th>\n",
       "      <td>18.000000</td>\n",
       "      <td>0.0</td>\n",
       "      <td>21.000000</td>\n",
       "      <td>45.000000</td>\n",
       "      <td>6630.500000</td>\n",
       "      <td>10.000000</td>\n",
       "      <td>2.000000</td>\n",
       "    </tr>\n",
       "    <tr>\n",
       "      <th>max</th>\n",
       "      <td>22.000000</td>\n",
       "      <td>0.0</td>\n",
       "      <td>22.000000</td>\n",
       "      <td>45.000000</td>\n",
       "      <td>8831.000000</td>\n",
       "      <td>10.000000</td>\n",
       "      <td>10.000000</td>\n",
       "    </tr>\n",
       "  </tbody>\n",
       "</table>\n",
       "</div>"
      ],
      "text/plain": [
       "       bookedCount  bookingId  classCapacity    duration     entityId  \\\n",
       "count   163.000000      163.0     163.000000  163.000000   163.000000   \n",
       "mean      6.858896        0.0      15.601227   36.871166  6422.564417   \n",
       "std       9.275534        0.0       7.712856    7.639361   769.920479   \n",
       "min       0.000000        0.0       3.000000   15.000000  5603.000000   \n",
       "25%       0.000000        0.0       3.000000   30.000000  5861.000000   \n",
       "50%       0.000000        0.0      20.000000   40.000000  6248.000000   \n",
       "75%      18.000000        0.0      21.000000   45.000000  6630.500000   \n",
       "max      22.000000        0.0      22.000000   45.000000  8831.000000   \n",
       "\n",
       "       waitingListCapacity  waitingListCount  \n",
       "count           163.000000        163.000000  \n",
       "mean              7.423313          2.177914  \n",
       "std               4.386984          3.872856  \n",
       "min               0.000000          0.000000  \n",
       "25%               0.000000          0.000000  \n",
       "50%              10.000000          0.000000  \n",
       "75%              10.000000          2.000000  \n",
       "max              10.000000         10.000000  "
      ]
     },
     "execution_count": 13,
     "metadata": {},
     "output_type": "execute_result"
    }
   ],
   "source": [
    "df.describe()"
   ]
  },
  {
   "cell_type": "code",
   "execution_count": 14,
   "metadata": {
    "collapsed": false
   },
   "outputs": [
    {
     "data": {
      "text/html": [
       "<div>\n",
       "<table border=\"1\" class=\"dataframe\">\n",
       "  <thead>\n",
       "    <tr style=\"text-align: right;\">\n",
       "      <th></th>\n",
       "      <th>canBeBooked</th>\n",
       "      <th>classType</th>\n",
       "      <th>description</th>\n",
       "      <th>instructorName</th>\n",
       "      <th>isInduction</th>\n",
       "      <th>name</th>\n",
       "      <th>studio</th>\n",
       "    </tr>\n",
       "  </thead>\n",
       "  <tbody>\n",
       "    <tr>\n",
       "      <th>count</th>\n",
       "      <td>163</td>\n",
       "      <td>163</td>\n",
       "      <td>163</td>\n",
       "      <td>163</td>\n",
       "      <td>163</td>\n",
       "      <td>163</td>\n",
       "      <td>163</td>\n",
       "    </tr>\n",
       "    <tr>\n",
       "      <th>unique</th>\n",
       "      <td>1</td>\n",
       "      <td>2</td>\n",
       "      <td>20</td>\n",
       "      <td>12</td>\n",
       "      <td>2</td>\n",
       "      <td>20</td>\n",
       "      <td>3</td>\n",
       "    </tr>\n",
       "    <tr>\n",
       "      <th>top</th>\n",
       "      <td>False</td>\n",
       "      <td>pure classes</td>\n",
       "      <td>Our cycle class is an indoor experience where ...</td>\n",
       "      <td>Andrew Mukudzeu Tirivanhu</td>\n",
       "      <td>False</td>\n",
       "      <td>Pure Cycle</td>\n",
       "      <td>Studio</td>\n",
       "    </tr>\n",
       "    <tr>\n",
       "      <th>freq</th>\n",
       "      <td>163</td>\n",
       "      <td>121</td>\n",
       "      <td>28</td>\n",
       "      <td>42</td>\n",
       "      <td>121</td>\n",
       "      <td>28</td>\n",
       "      <td>93</td>\n",
       "    </tr>\n",
       "  </tbody>\n",
       "</table>\n",
       "</div>"
      ],
      "text/plain": [
       "       canBeBooked     classType  \\\n",
       "count          163           163   \n",
       "unique           1             2   \n",
       "top          False  pure classes   \n",
       "freq           163           121   \n",
       "\n",
       "                                              description  \\\n",
       "count                                                 163   \n",
       "unique                                                 20   \n",
       "top     Our cycle class is an indoor experience where ...   \n",
       "freq                                                   28   \n",
       "\n",
       "                   instructorName isInduction         name  studio  \n",
       "count                         163         163          163     163  \n",
       "unique                         12           2           20       3  \n",
       "top     Andrew Mukudzeu Tirivanhu       False  Pure Cycle   Studio  \n",
       "freq                           42         121           28      93  "
      ]
     },
     "execution_count": 14,
     "metadata": {},
     "output_type": "execute_result"
    }
   ],
   "source": [
    "df.describe(include=[object, bool], exclude=[int])  # TODO: datetime"
   ]
  },
  {
   "cell_type": "code",
   "execution_count": 15,
   "metadata": {
    "collapsed": true
   },
   "outputs": [],
   "source": [
    "# classType <-> isInduction ?\n",
    "# name <-> description ?\n",
    "# startDateTime: total number is less than unique number"
   ]
  },
  {
   "cell_type": "code",
   "execution_count": 16,
   "metadata": {
    "collapsed": false
   },
   "outputs": [
    {
     "data": {
      "text/html": [
       "<div>\n",
       "<table border=\"1\" class=\"dataframe\">\n",
       "  <thead>\n",
       "    <tr style=\"text-align: right;\">\n",
       "      <th></th>\n",
       "      <th>classCapacity</th>\n",
       "      <th>bookedCount</th>\n",
       "      <th>classType</th>\n",
       "      <th>name</th>\n",
       "      <th>startDateTime</th>\n",
       "      <th>duration</th>\n",
       "      <th>studio</th>\n",
       "      <th>instructorName</th>\n",
       "    </tr>\n",
       "  </thead>\n",
       "  <tbody>\n",
       "    <tr>\n",
       "      <th>3</th>\n",
       "      <td>3</td>\n",
       "      <td>0</td>\n",
       "      <td>induction</td>\n",
       "      <td>Weight Loss Induction</td>\n",
       "      <td>2016-10-24 07:45:00</td>\n",
       "      <td>30</td>\n",
       "      <td>Induction Point</td>\n",
       "      <td>Andrew Mukudzeu Tirivanhu</td>\n",
       "    </tr>\n",
       "    <tr>\n",
       "      <th>5</th>\n",
       "      <td>3</td>\n",
       "      <td>0</td>\n",
       "      <td>induction</td>\n",
       "      <td>Tone Induction</td>\n",
       "      <td>2016-10-24 11:10:00</td>\n",
       "      <td>30</td>\n",
       "      <td>Induction Point</td>\n",
       "      <td>Ross Price</td>\n",
       "    </tr>\n",
       "    <tr>\n",
       "      <th>8</th>\n",
       "      <td>3</td>\n",
       "      <td>1</td>\n",
       "      <td>induction</td>\n",
       "      <td>Strength &amp; Conditioning Induction</td>\n",
       "      <td>2016-10-24 13:30:00</td>\n",
       "      <td>30</td>\n",
       "      <td>Induction Point</td>\n",
       "      <td>Samuel Roberts</td>\n",
       "    </tr>\n",
       "    <tr>\n",
       "      <th>15</th>\n",
       "      <td>18</td>\n",
       "      <td>17</td>\n",
       "      <td>pure classes</td>\n",
       "      <td>Pure Circuits</td>\n",
       "      <td>2016-10-24 19:00:00</td>\n",
       "      <td>45</td>\n",
       "      <td>Studio</td>\n",
       "      <td>Samuel Roberts</td>\n",
       "    </tr>\n",
       "    <tr>\n",
       "      <th>19</th>\n",
       "      <td>3</td>\n",
       "      <td>1</td>\n",
       "      <td>induction</td>\n",
       "      <td>General Fitness Induction</td>\n",
       "      <td>2016-10-25 07:45:00</td>\n",
       "      <td>30</td>\n",
       "      <td>Induction Point</td>\n",
       "      <td>Polyzoi Despoina</td>\n",
       "    </tr>\n",
       "    <tr>\n",
       "      <th>23</th>\n",
       "      <td>3</td>\n",
       "      <td>2</td>\n",
       "      <td>induction</td>\n",
       "      <td>Tone Induction</td>\n",
       "      <td>2016-10-25 13:30:00</td>\n",
       "      <td>30</td>\n",
       "      <td>Induction Point</td>\n",
       "      <td>Ross Price</td>\n",
       "    </tr>\n",
       "    <tr>\n",
       "      <th>25</th>\n",
       "      <td>3</td>\n",
       "      <td>1</td>\n",
       "      <td>induction</td>\n",
       "      <td>Weight Loss Induction</td>\n",
       "      <td>2016-10-25 16:30:00</td>\n",
       "      <td>30</td>\n",
       "      <td>Induction Point</td>\n",
       "      <td>Ross Price</td>\n",
       "    </tr>\n",
       "    <tr>\n",
       "      <th>28</th>\n",
       "      <td>3</td>\n",
       "      <td>1</td>\n",
       "      <td>induction</td>\n",
       "      <td>General Fitness Induction</td>\n",
       "      <td>2016-10-25 18:10:00</td>\n",
       "      <td>30</td>\n",
       "      <td>Induction Point</td>\n",
       "      <td>Andrew Mukudzeu Tirivanhu</td>\n",
       "    </tr>\n",
       "    <tr>\n",
       "      <th>35</th>\n",
       "      <td>10</td>\n",
       "      <td>1</td>\n",
       "      <td>induction</td>\n",
       "      <td>Tone Induction</td>\n",
       "      <td>2016-10-26 08:00:00</td>\n",
       "      <td>30</td>\n",
       "      <td>Induction Point</td>\n",
       "      <td>Polyzoi Despoina</td>\n",
       "    </tr>\n",
       "    <tr>\n",
       "      <th>39</th>\n",
       "      <td>3</td>\n",
       "      <td>1</td>\n",
       "      <td>induction</td>\n",
       "      <td>Weight Loss Induction</td>\n",
       "      <td>2016-10-26 13:30:00</td>\n",
       "      <td>30</td>\n",
       "      <td>Induction Point</td>\n",
       "      <td>Ross Price</td>\n",
       "    </tr>\n",
       "    <tr>\n",
       "      <th>40</th>\n",
       "      <td>3</td>\n",
       "      <td>0</td>\n",
       "      <td>induction</td>\n",
       "      <td>Tone Induction</td>\n",
       "      <td>2016-10-26 15:50:00</td>\n",
       "      <td>30</td>\n",
       "      <td>Induction Point</td>\n",
       "      <td>Andrew Mukudzeu Tirivanhu</td>\n",
       "    </tr>\n",
       "    <tr>\n",
       "      <th>45</th>\n",
       "      <td>20</td>\n",
       "      <td>18</td>\n",
       "      <td>pure classes</td>\n",
       "      <td>Pure Combat</td>\n",
       "      <td>2016-10-27 05:45:00</td>\n",
       "      <td>45</td>\n",
       "      <td>Studio</td>\n",
       "      <td>Sophie Barrett</td>\n",
       "    </tr>\n",
       "    <tr>\n",
       "      <th>52</th>\n",
       "      <td>3</td>\n",
       "      <td>0</td>\n",
       "      <td>induction</td>\n",
       "      <td>Muscle Gain Induction</td>\n",
       "      <td>2016-10-27 13:30:00</td>\n",
       "      <td>30</td>\n",
       "      <td>Induction Point</td>\n",
       "      <td>Ross Price</td>\n",
       "    </tr>\n",
       "    <tr>\n",
       "      <th>53</th>\n",
       "      <td>3</td>\n",
       "      <td>2</td>\n",
       "      <td>induction</td>\n",
       "      <td>General Fitness Induction</td>\n",
       "      <td>2016-10-27 16:00:00</td>\n",
       "      <td>30</td>\n",
       "      <td>Induction Point</td>\n",
       "      <td>Ross Price</td>\n",
       "    </tr>\n",
       "    <tr>\n",
       "      <th>60</th>\n",
       "      <td>3</td>\n",
       "      <td>0</td>\n",
       "      <td>induction</td>\n",
       "      <td>Weight Loss Induction</td>\n",
       "      <td>2016-10-28 07:20:00</td>\n",
       "      <td>30</td>\n",
       "      <td>Induction Point</td>\n",
       "      <td>Polyzoi Despoina</td>\n",
       "    </tr>\n",
       "    <tr>\n",
       "      <th>61</th>\n",
       "      <td>22</td>\n",
       "      <td>18</td>\n",
       "      <td>pure classes</td>\n",
       "      <td>Pure Bootcamp</td>\n",
       "      <td>2016-10-28 11:10:00</td>\n",
       "      <td>40</td>\n",
       "      <td>Studio</td>\n",
       "      <td>Polyzoi Despoina</td>\n",
       "    </tr>\n",
       "    <tr>\n",
       "      <th>64</th>\n",
       "      <td>21</td>\n",
       "      <td>14</td>\n",
       "      <td>pure classes</td>\n",
       "      <td>Pure Cycle</td>\n",
       "      <td>2016-10-28 12:10:00</td>\n",
       "      <td>30</td>\n",
       "      <td>Cycle Studio</td>\n",
       "      <td>Vinnie Ferreira</td>\n",
       "    </tr>\n",
       "    <tr>\n",
       "      <th>65</th>\n",
       "      <td>3</td>\n",
       "      <td>0</td>\n",
       "      <td>induction</td>\n",
       "      <td>General Fitness Induction</td>\n",
       "      <td>2016-10-28 13:30:00</td>\n",
       "      <td>30</td>\n",
       "      <td>Induction Point</td>\n",
       "      <td>Andrew Mukudzeu Tirivanhu</td>\n",
       "    </tr>\n",
       "    <tr>\n",
       "      <th>66</th>\n",
       "      <td>3</td>\n",
       "      <td>1</td>\n",
       "      <td>induction</td>\n",
       "      <td>Muscle Gain Induction</td>\n",
       "      <td>2016-10-28 16:00:00</td>\n",
       "      <td>30</td>\n",
       "      <td>Induction Point</td>\n",
       "      <td>Andrew Mukudzeu Tirivanhu</td>\n",
       "    </tr>\n",
       "  </tbody>\n",
       "</table>\n",
       "</div>"
      ],
      "text/plain": [
       "    classCapacity  bookedCount     classType  \\\n",
       "3               3            0     induction   \n",
       "5               3            0     induction   \n",
       "8               3            1     induction   \n",
       "15             18           17  pure classes   \n",
       "19              3            1     induction   \n",
       "23              3            2     induction   \n",
       "25              3            1     induction   \n",
       "28              3            1     induction   \n",
       "35             10            1     induction   \n",
       "39              3            1     induction   \n",
       "40              3            0     induction   \n",
       "45             20           18  pure classes   \n",
       "52              3            0     induction   \n",
       "53              3            2     induction   \n",
       "60              3            0     induction   \n",
       "61             22           18  pure classes   \n",
       "64             21           14  pure classes   \n",
       "65              3            0     induction   \n",
       "66              3            1     induction   \n",
       "\n",
       "                                 name       startDateTime  duration  \\\n",
       "3               Weight Loss Induction 2016-10-24 07:45:00        30   \n",
       "5                      Tone Induction 2016-10-24 11:10:00        30   \n",
       "8   Strength & Conditioning Induction 2016-10-24 13:30:00        30   \n",
       "15                      Pure Circuits 2016-10-24 19:00:00        45   \n",
       "19          General Fitness Induction 2016-10-25 07:45:00        30   \n",
       "23                     Tone Induction 2016-10-25 13:30:00        30   \n",
       "25              Weight Loss Induction 2016-10-25 16:30:00        30   \n",
       "28          General Fitness Induction 2016-10-25 18:10:00        30   \n",
       "35                     Tone Induction 2016-10-26 08:00:00        30   \n",
       "39              Weight Loss Induction 2016-10-26 13:30:00        30   \n",
       "40                     Tone Induction 2016-10-26 15:50:00        30   \n",
       "45                        Pure Combat 2016-10-27 05:45:00        45   \n",
       "52              Muscle Gain Induction 2016-10-27 13:30:00        30   \n",
       "53          General Fitness Induction 2016-10-27 16:00:00        30   \n",
       "60              Weight Loss Induction 2016-10-28 07:20:00        30   \n",
       "61                     Pure Bootcamp  2016-10-28 11:10:00        40   \n",
       "64                        Pure Cycle  2016-10-28 12:10:00        30   \n",
       "65          General Fitness Induction 2016-10-28 13:30:00        30   \n",
       "66              Muscle Gain Induction 2016-10-28 16:00:00        30   \n",
       "\n",
       "             studio             instructorName  \n",
       "3   Induction Point  Andrew Mukudzeu Tirivanhu  \n",
       "5   Induction Point                 Ross Price  \n",
       "8   Induction Point             Samuel Roberts  \n",
       "15           Studio             Samuel Roberts  \n",
       "19  Induction Point           Polyzoi Despoina  \n",
       "23  Induction Point                 Ross Price  \n",
       "25  Induction Point                 Ross Price  \n",
       "28  Induction Point  Andrew Mukudzeu Tirivanhu  \n",
       "35  Induction Point           Polyzoi Despoina  \n",
       "39  Induction Point                 Ross Price  \n",
       "40  Induction Point  Andrew Mukudzeu Tirivanhu  \n",
       "45           Studio             Sophie Barrett  \n",
       "52  Induction Point                 Ross Price  \n",
       "53  Induction Point                 Ross Price  \n",
       "60  Induction Point           Polyzoi Despoina  \n",
       "61           Studio           Polyzoi Despoina  \n",
       "64     Cycle Studio            Vinnie Ferreira  \n",
       "65  Induction Point  Andrew Mukudzeu Tirivanhu  \n",
       "66  Induction Point  Andrew Mukudzeu Tirivanhu  "
      ]
     },
     "execution_count": 16,
     "metadata": {},
     "output_type": "execute_result"
    }
   ],
   "source": [
    "tmp = df[['classCapacity', 'bookedCount', 'classType','name',  'startDateTime', 'duration', 'studio', 'instructorName']]\n",
    "tmp[\n",
    "    (tmp['startDateTime'] < pd.to_datetime('2016-10-29'))\n",
    "    & (tmp['classCapacity'] > tmp['bookedCount'])\n",
    "   ]"
   ]
  },
  {
   "cell_type": "code",
   "execution_count": null,
   "metadata": {
    "collapsed": true
   },
   "outputs": [],
   "source": []
  }
 ],
 "metadata": {
  "kernelspec": {
   "display_name": "Python 3",
   "language": "python",
   "name": "python3"
  },
  "language_info": {
   "codemirror_mode": {
    "name": "ipython",
    "version": 3
   },
   "file_extension": ".py",
   "mimetype": "text/x-python",
   "name": "python",
   "nbconvert_exporter": "python",
   "pygments_lexer": "ipython3",
   "version": "3.4.5"
  }
 },
 "nbformat": 4,
 "nbformat_minor": 0
}
